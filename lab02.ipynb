{
  "cells": [
    {
      "cell_type": "markdown",
      "metadata": {
        "id": "view-in-github",
        "colab_type": "text"
      },
      "source": [
        "<a href=\"https://colab.research.google.com/github/LithiumDrache/BUSoftwareEngineeringUnit/blob/main/lab02.ipynb\" target=\"_parent\"><img src=\"https://colab.research.google.com/assets/colab-badge.svg\" alt=\"Open In Colab\"/></a>"
      ]
    },
    {
      "cell_type": "markdown",
      "metadata": {
        "id": "nrRtJx8KC0mZ"
      },
      "source": [
        "[![Open In Colab](https://colab.research.google.com/assets/colab-badge.svg)](https://colab.research.google.com/github/rpi-techfundamentals/fall2018-materials/blob/master/10-deep-learning/04-pytorch-mnist.ipynb)\n"
      ]
    },
    {
      "cell_type": "markdown",
      "source": [
        "#Install packages"
      ],
      "metadata": {
        "id": "YotA953ApBgv"
      }
    },
    {
      "cell_type": "code",
      "source": [
        "# Install ngrok\n",
        "!pip install pyngrok"
      ],
      "metadata": {
        "colab": {
          "base_uri": "https://localhost:8080/"
        },
        "id": "GJOCoS-oshg-",
        "outputId": "ed76dfcc-25f3-440d-e57d-ccffdd044c4b"
      },
      "execution_count": null,
      "outputs": [
        {
          "output_type": "stream",
          "name": "stdout",
          "text": [
            "Collecting pyngrok\n",
            "  Downloading pyngrok-7.2.0-py3-none-any.whl.metadata (7.4 kB)\n",
            "Requirement already satisfied: PyYAML>=5.1 in /usr/local/lib/python3.10/dist-packages (from pyngrok) (6.0.2)\n",
            "Downloading pyngrok-7.2.0-py3-none-any.whl (22 kB)\n",
            "Installing collected packages: pyngrok\n",
            "Successfully installed pyngrok-7.2.0\n"
          ]
        }
      ]
    },
    {
      "cell_type": "markdown",
      "source": [
        "# ngrok used for access colab"
      ],
      "metadata": {
        "id": "Jhvt_zQrEi7K"
      }
    },
    {
      "cell_type": "markdown",
      "source": [
        "Go to https://ngrok.com/ and log in with your Google account.![ngrok.PNG](data:image/png;base64,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)\n",
        "\n",
        "Then, navigate to 'Your Authtoken,' copy your token, and use it to replace 'your_ngrok_auth_token' below."
      ],
      "metadata": {
        "id": "UR8aT0gaESgP"
      }
    },
    {
      "cell_type": "code",
      "source": [
        "# Set ngrok authtoken\n",
        "from pyngrok import ngrok\n",
        "ngrok.set_auth_token(\"2nFWCxCRCHgQHS2o9B4lHVFysuy_6MgjjwAfYm3Xhj7aPx9Di\")\n"
      ],
      "metadata": {
        "id": "DWWykcjnsxrL",
        "colab": {
          "base_uri": "https://localhost:8080/"
        },
        "outputId": "f75e0f60-e948-4214-81a8-abff936e3516"
      },
      "execution_count": null,
      "outputs": [
        {
          "output_type": "stream",
          "name": "stdout",
          "text": []
        }
      ]
    },
    {
      "cell_type": "code",
      "source": [
        "# Function to start ngrok\n",
        "def start_ngrok():\n",
        "    # Start the ngrok process with subprocess, specifying that ngrok should tunnel HTTP traffic to port 5000\n",
        "    ngrok_process = subprocess.Popen(['ngrok', 'http', '5000'])\n",
        "    # Delay the script for 4 seconds to allow ngrok time to initialize and start the tunnel\n",
        "    time.sleep(4)\n",
        "    # Fetch the ngrok tunnel information using an HTTP GET request to ngrok's local API\n",
        "    response = requests.get('http://localhost:4040/api/tunnels')\n",
        "    # Parse the JSON response to get the details of the tunnel\n",
        "    tunnel_info = response.json()\n",
        "    # Extract the public URL where the ngrok tunnel is accessible\n",
        "    public_url = tunnel_info['tunnels'][0]['public_url']\n",
        "    # Print the ngrok tunnel URL to the console\n",
        "    print(\" * ngrok tunnel URL:\", public_url)\n",
        "    # Return the public URL for use elsewhere in the script\n",
        "    return public_url"
      ],
      "metadata": {
        "id": "aZ8hcumK8BcM"
      },
      "execution_count": null,
      "outputs": []
    },
    {
      "cell_type": "markdown",
      "source": [
        "# Flask"
      ],
      "metadata": {
        "id": "LSLCKSM-p2OE"
      }
    },
    {
      "cell_type": "markdown",
      "source": [
        "## To use a string type for html_template, define the HTML content as a string within your Flask application and render it directly using the render_template_string function.\n",
        "\n"
      ],
      "metadata": {
        "id": "yolWMBHY0Dt1"
      }
    },
    {
      "cell_type": "code",
      "source": [
        "html_template = '''\n",
        "<!DOCTYPE html>\n",
        "<!-- The DOCTYPE declaration specifies that this document is an HTML5 document -->\n",
        "<html lang=\"en\">\n",
        "<!-- The <html> tag with 'lang=\"en\"' indicates that the language of this document is English -->\n",
        "\n",
        "<head>\n",
        "    <!-- The <head> tag contains meta-information about the HTML document -->\n",
        "    <meta charset=\"UTF-8\">\n",
        "    <!-- Meta charset=\"UTF-8\" sets the character encoding for the document to UTF-8, which includes most characters from all languages -->\n",
        "    <meta name=\"viewport\" content=\"width=device-width, initial-scale=1.0\">\n",
        "    <!-- The viewport meta tag ensures the page is displayed correctly on all devices by setting the width to the device's width and initial zoom level to 1 -->\n",
        "    <title>Hello Whores</title>\n",
        "    <!-- The <title> tag sets the title of the document, which appears in the browser tab -->\n",
        "</head>\n",
        "<body>\n",
        "    <!-- The <body> tag contains the content of the HTML document that is visible to the user -->\n",
        "    <h1>Hello Whores!</h1>\n",
        "    <!-- <h1> defines a large heading, displaying the text \"Hello\" inside it -->\n",
        "</body>\n",
        "</html>\n",
        "'''"
      ],
      "metadata": {
        "id": "1My5mXoJz8Yf"
      },
      "execution_count": null,
      "outputs": []
    },
    {
      "cell_type": "code",
      "source": [
        "# Import necessary modules from the Flask library and other utilities\n",
        "from flask import Flask, render_template, render_template_string\n",
        "import subprocess  # Allows you to spawn new processes, connect to their input/output/error pipes, and obtain their return codes\n",
        "import requests  # Enables sending HTTP requests using Python\n",
        "import time  # Provides various time-related functions\n",
        "\n",
        "# Initialize a Flask application\n",
        "app = Flask(__name__)\n",
        "\n",
        "# Define a route for the default web page\n",
        "@app.route('/')\n",
        "def index():\n",
        "    # Render an HTML template (variable 'html_template' must be defined with HTML content elsewhere in your code)\n",
        "    return render_template_string(html_template)\n",
        "\n",
        "# Main entry point of the application, this block runs when the script is executed directly\n",
        "if __name__ == '__main__':\n",
        "    # Start ngrok and store the public URL\n",
        "    public_url = start_ngrok()\n",
        "    # Print the public URL to access the web application\n",
        "    print(f\" * Access the web app at: {public_url}\")\n",
        "    # Run the Flask app on port 5000\n",
        "    app.run(port=5000)"
      ],
      "metadata": {
        "colab": {
          "base_uri": "https://localhost:8080/"
        },
        "id": "wOmu9l31zke_",
        "outputId": "10118de9-4b87-4895-9a05-bda8da94729a"
      },
      "execution_count": null,
      "outputs": [
        {
          "output_type": "stream",
          "name": "stdout",
          "text": [
            " * ngrok tunnel URL: https://06bd-34-138-218-152.ngrok-free.app\n",
            " * Access the web app at: https://06bd-34-138-218-152.ngrok-free.app\n",
            " * Serving Flask app '__main__'\n",
            " * Debug mode: off\n"
          ]
        },
        {
          "output_type": "stream",
          "name": "stderr",
          "text": [
            "INFO:werkzeug:\u001b[31m\u001b[1mWARNING: This is a development server. Do not use it in a production deployment. Use a production WSGI server instead.\u001b[0m\n",
            " * Running on http://127.0.0.1:5000\n",
            "INFO:werkzeug:\u001b[33mPress CTRL+C to quit\u001b[0m\n",
            "INFO:werkzeug:127.0.0.1 - - [10/Oct/2024 14:34:01] \"GET / HTTP/1.1\" 200 -\n",
            "INFO:werkzeug:127.0.0.1 - - [10/Oct/2024 14:34:01] \"\u001b[33mGET /favicon.ico HTTP/1.1\u001b[0m\" 404 -\n"
          ]
        }
      ]
    },
    {
      "cell_type": "markdown",
      "source": [
        "## To use the .html type, create a 'templates' folder and upload your created index.html file to this folder."
      ],
      "metadata": {
        "id": "rY00E7120PF0"
      }
    },
    {
      "cell_type": "code",
      "execution_count": null,
      "metadata": {
        "colab": {
          "base_uri": "https://localhost:8080/"
        },
        "id": "s0oER0UHhrRu",
        "outputId": "5607814a-3f88-450c-81c7-51a427bb3cec"
      },
      "outputs": [
        {
          "output_type": "stream",
          "name": "stdout",
          "text": [
            " * ngrok tunnel URL: https://451d-34-138-218-152.ngrok-free.app\n",
            " * Access the web app at: https://451d-34-138-218-152.ngrok-free.app\n",
            " * Serving Flask app '__main__'\n",
            " * Debug mode: off\n"
          ]
        },
        {
          "output_type": "stream",
          "name": "stderr",
          "text": [
            "INFO:werkzeug:\u001b[31m\u001b[1mWARNING: This is a development server. Do not use it in a production deployment. Use a production WSGI server instead.\u001b[0m\n",
            " * Running on http://127.0.0.1:5000\n",
            "INFO:werkzeug:\u001b[33mPress CTRL+C to quit\u001b[0m\n"
          ]
        }
      ],
      "source": [
        "from flask import Flask, render_template\n",
        "import subprocess\n",
        "import requests\n",
        "import time\n",
        "\n",
        "app = Flask(__name__)\n",
        "\n",
        "# Route for handling the default web page\n",
        "@app.route('/')\n",
        "def index():\n",
        "    return render_template('index.html')\n",
        "\n",
        "# Start the Flask application and ngrok together\n",
        "if __name__ == '__main__':\n",
        "    public_url = start_ngrok()\n",
        "    print(f\" * Access the web app at: {public_url}\")\n",
        "    app.run(port=5000)\n"
      ]
    },
    {
      "cell_type": "markdown",
      "source": [
        "# Exercise"
      ],
      "metadata": {
        "id": "YHHjRAHCArWW"
      }
    },
    {
      "cell_type": "markdown",
      "source": [
        "To modify your Flask application code to show a homepage with a button that, when clicked, opens a sub-page displaying \"Hello World,\" here’s an updated version of your Flask application:"
      ],
      "metadata": {
        "id": "SW_3FvobCo7e"
      }
    },
    {
      "cell_type": "code",
      "source": [
        "index_template = '''\n",
        "<!DOCTYPE html>\n",
        "<html lang=\"en\">\n",
        "<head>\n",
        "    <meta charset=\"UTF-8\">\n",
        "    <meta name=\"viewport\" content=\"width=device-width, initial-scale=1.0\">\n",
        "    <title>Home Page</title>\n",
        "</head>\n",
        "<body>\n",
        "    <h1>Welcome to the Home Page</h1>\n",
        "    <a href=\"/hello\"><button>Go to Hello World</button></a>\n",
        "</body>\n",
        "</html>\n",
        "'''"
      ],
      "metadata": {
        "id": "nLaxdjxRAxf8"
      },
      "execution_count": null,
      "outputs": []
    },
    {
      "cell_type": "code",
      "source": [
        "hello_template = '''\n",
        "<!DOCTYPE html>\n",
        "<html lang=\"en\">\n",
        "\n",
        "<head>\n",
        "    <meta charset=\"UTF-8\">\n",
        "    <meta name=\"viewport\" content=\"width=device-width, initial-scale=1.0\">\n",
        "    <title>Hello World</title>\n",
        "</head>\n",
        "<body>\n",
        "    <h1>Hello World!</h1>\n",
        "</body>\n",
        "</html>\n",
        "'''"
      ],
      "metadata": {
        "id": "thMoKU6FBWiR"
      },
      "execution_count": null,
      "outputs": []
    },
    {
      "cell_type": "code",
      "source": [
        "from flask import Flask, url_for # add ...\n",
        "import subprocess\n",
        "import requests\n",
        "\n",
        "app = Flask(__name__)\n",
        "\n",
        "\n",
        "@app.route('/')\n",
        "def index():\n",
        "    return # Fix here\n",
        "\n",
        "@app.route('/hello')\n",
        "def hello():\n",
        "    return # Fix here\n",
        "\n",
        "if __name__ == '__main__':\n",
        "    public_url = start_ngrok()\n",
        "    print(f\" * Access the web app at: {public_url}\")\n",
        "    app.run(port=5000)\n"
      ],
      "metadata": {
        "colab": {
          "base_uri": "https://localhost:8080/"
        },
        "id": "MYxo_DBjBEgT",
        "outputId": "de825a83-c1d9-400f-e921-fc082845632a"
      },
      "execution_count": null,
      "outputs": [
        {
          "output_type": "stream",
          "name": "stdout",
          "text": [
            " * ngrok tunnel URL: https://4620-34-125-90-153.ngrok-free.app\n",
            " * Access the web app at: https://4620-34-125-90-153.ngrok-free.app\n",
            " * Serving Flask app '__main__'\n",
            " * Debug mode: off\n"
          ]
        },
        {
          "output_type": "stream",
          "name": "stderr",
          "text": [
            "INFO:werkzeug:\u001b[31m\u001b[1mWARNING: This is a development server. Do not use it in a production deployment. Use a production WSGI server instead.\u001b[0m\n",
            " * Running on http://127.0.0.1:5000\n",
            "INFO:werkzeug:\u001b[33mPress CTRL+C to quit\u001b[0m\n",
            "INFO:werkzeug:127.0.0.1 - - [25/Sep/2024 11:53:45] \"GET / HTTP/1.1\" 200 -\n",
            "INFO:werkzeug:127.0.0.1 - - [25/Sep/2024 11:53:45] \"\u001b[33mGET /favicon.ico HTTP/1.1\u001b[0m\" 404 -\n",
            "INFO:werkzeug:127.0.0.1 - - [25/Sep/2024 11:53:47] \"\u001b[33mGET /hello HTTP/1.1\u001b[0m\" 404 -\n"
          ]
        }
      ]
    }
  ],
  "metadata": {
    "colab": {
      "gpuType": "T4",
      "machine_shape": "hm",
      "provenance": [],
      "include_colab_link": true
    },
    "kernelspec": {
      "display_name": "Python 3",
      "name": "python3"
    },
    "language_info": {
      "codemirror_mode": {
        "name": "ipython",
        "version": 3
      },
      "file_extension": ".py",
      "mimetype": "text/x-python",
      "name": "python",
      "nbconvert_exporter": "python",
      "pygments_lexer": "ipython3",
      "version": "3.6.5"
    }
  },
  "nbformat": 4,
  "nbformat_minor": 0
}