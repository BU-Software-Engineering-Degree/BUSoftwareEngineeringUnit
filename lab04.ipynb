{
  "cells": [
    {
      "cell_type": "markdown",
      "metadata": {
        "id": "view-in-github",
        "colab_type": "text"
      },
      "source": [
        "<a href=\"https://colab.research.google.com/github/LithiumDrache/BUSoftwareEngineeringUnit/blob/main/lab04.ipynb\" target=\"_parent\"><img src=\"https://colab.research.google.com/assets/colab-badge.svg\" alt=\"Open In Colab\"/></a>"
      ]
    },
    {
      "cell_type": "markdown",
      "metadata": {
        "id": "nrRtJx8KC0mZ"
      },
      "source": [
        "[![Open In Colab](https://colab.research.google.com/assets/colab-badge.svg)](https://colab.research.google.com/github/rpi-techfundamentals/fall2018-materials/blob/master/10-deep-learning/04-pytorch-mnist.ipynb)\n"
      ]
    },
    {
      "cell_type": "markdown",
      "source": [
        "#Install packages and ngrok"
      ],
      "metadata": {
        "id": "YotA953ApBgv"
      }
    },
    {
      "cell_type": "code",
      "execution_count": null,
      "metadata": {
        "colab": {
          "base_uri": "https://localhost:8080/"
        },
        "id": "9j-Flv1pC0md",
        "outputId": "64890482-d305-410a-ad53-381d5b6fa124"
      },
      "outputs": [
        {
          "output_type": "stream",
          "name": "stdout",
          "text": [
            "Requirement already satisfied: torch in /usr/local/lib/python3.10/dist-packages (2.5.0+cu121)\n",
            "Requirement already satisfied: torchvision in /usr/local/lib/python3.10/dist-packages (0.20.0+cu121)\n",
            "Requirement already satisfied: filelock in /usr/local/lib/python3.10/dist-packages (from torch) (3.16.1)\n",
            "Requirement already satisfied: typing-extensions>=4.8.0 in /usr/local/lib/python3.10/dist-packages (from torch) (4.12.2)\n",
            "Requirement already satisfied: networkx in /usr/local/lib/python3.10/dist-packages (from torch) (3.4.2)\n",
            "Requirement already satisfied: jinja2 in /usr/local/lib/python3.10/dist-packages (from torch) (3.1.4)\n",
            "Requirement already satisfied: fsspec in /usr/local/lib/python3.10/dist-packages (from torch) (2024.6.1)\n",
            "Requirement already satisfied: sympy==1.13.1 in /usr/local/lib/python3.10/dist-packages (from torch) (1.13.1)\n",
            "Requirement already satisfied: mpmath<1.4,>=1.1.0 in /usr/local/lib/python3.10/dist-packages (from sympy==1.13.1->torch) (1.3.0)\n",
            "Requirement already satisfied: numpy in /usr/local/lib/python3.10/dist-packages (from torchvision) (1.26.4)\n",
            "Requirement already satisfied: pillow!=8.3.*,>=5.3.0 in /usr/local/lib/python3.10/dist-packages (from torchvision) (10.4.0)\n",
            "Requirement already satisfied: MarkupSafe>=2.0 in /usr/local/lib/python3.10/dist-packages (from jinja2->torch) (3.0.2)\n"
          ]
        }
      ],
      "source": [
        "!pip install torch torchvision"
      ]
    },
    {
      "cell_type": "code",
      "source": [
        "# Install ngrok\n",
        "!pip install pyngrok"
      ],
      "metadata": {
        "colab": {
          "base_uri": "https://localhost:8080/"
        },
        "id": "jAYTMS1ZlYN_",
        "outputId": "c362fc11-0001-42f8-87b0-05af705d7947"
      },
      "execution_count": null,
      "outputs": [
        {
          "output_type": "stream",
          "name": "stdout",
          "text": [
            "Requirement already satisfied: pyngrok in /usr/local/lib/python3.10/dist-packages (7.2.0)\n",
            "Requirement already satisfied: PyYAML>=5.1 in /usr/local/lib/python3.10/dist-packages (from pyngrok) (6.0.2)\n"
          ]
        }
      ]
    },
    {
      "cell_type": "markdown",
      "source": [],
      "metadata": {
        "id": "P13td8IGkc1X"
      }
    },
    {
      "cell_type": "code",
      "source": [
        "# Set ngrok authtoken\n",
        "from pyngrok import ngrok\n",
        "ngrok.set_auth_token(\"2nFWCxCRCHgQHS2o9B4lHVFysuy_6MgjjwAfYm3Xhj7aPx9Di\")"
      ],
      "metadata": {
        "id": "Ayu_YXnUlaBV"
      },
      "execution_count": null,
      "outputs": []
    },
    {
      "cell_type": "code",
      "source": [
        "# Function to start ngrok\n",
        "def start_ngrok():\n",
        "    # Start the ngrok process with subprocess, specifying that ngrok should tunnel HTTP traffic to port 5000\n",
        "    ngrok_process = subprocess.Popen(['ngrok', 'http', '5000'])\n",
        "    # Delay the script for 4 seconds to allow ngrok time to initialize and start the tunnel\n",
        "    time.sleep(4)\n",
        "    # Fetch the ngrok tunnel information using an HTTP GET request to ngrok's local API\n",
        "    response = requests.get('http://localhost:4040/api/tunnels')\n",
        "    # Parse the JSON response to get the details of the tunnel\n",
        "    tunnel_info = response.json()\n",
        "    # Extract the public URL where the ngrok tunnel is accessible\n",
        "    public_url = tunnel_info['tunnels'][0]['public_url']\n",
        "    # Print the ngrok tunnel URL to the console\n",
        "    print(\" * ngrok tunnel URL:\", public_url)\n",
        "    # Return the public URL for use elsewhere in the script\n",
        "    return public_url"
      ],
      "metadata": {
        "id": "-c0Hl5YZlbu-"
      },
      "execution_count": null,
      "outputs": []
    },
    {
      "cell_type": "markdown",
      "source": [
        "# ResNet with Flask\n",
        "\n",
        "Up load imagenet_classes.txt:\n",
        "\n",
        "![Capture2.PNG](data:image/png;base64,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)"
      ],
      "metadata": {
        "id": "mjmXJXMzpUbH"
      }
    },
    {
      "cell_type": "code",
      "source": [
        "# Import the required modules\n",
        "import torch\n",
        "from PIL import Image as PILImage\n",
        "import torchvision.transforms as transforms\n",
        "import torchvision.models as models\n",
        "from flask import Flask, render_template_string, request, redirect, url_for\n",
        "import os\n",
        "import subprocess\n",
        "import requests\n",
        "import time\n",
        "import uuid\n",
        "\n",
        "# Load the pre-trained ResNet-152 model\n",
        "def load_model():\n",
        "    model = models.resnet152(pretrained=True)\n",
        "    model.eval()\n",
        "    return model\n",
        "\n",
        "# Load the model\n",
        "model = load_model()\n",
        "\n",
        "# Load ImageNet classes\n",
        "with open(\"imagenet_classes.txt\") as f:\n",
        "    classes = [line.strip() for line in f.readlines()]\n",
        "\n",
        "# Prediction function using ResNet-152\n",
        "def predict_uploaded_image(image_path):\n",
        "    transform = transforms.Compose([\n",
        "        transforms.Resize(256),\n",
        "        transforms.CenterCrop(224),\n",
        "        transforms.ToTensor(),\n",
        "        transforms.Normalize(mean=[0.485, 0.456, 0.406], std=[0.229, 0.224, 0.225])\n",
        "    ])\n",
        "\n",
        "    image = PILImage.open(image_path).convert('RGB')\n",
        "    image = transform(image).unsqueeze(0)\n",
        "\n",
        "    with torch.no_grad():\n",
        "        output = model(image)\n",
        "        _, predicted = torch.max(output, 1)\n",
        "\n",
        "    predicted_class = classes[predicted.item()]\n",
        "    return predicted_class\n",
        "\n",
        "# Initialize Flask app\n",
        "app = Flask(__name__)\n",
        "\n",
        "# Set upload folder inside the static directory\n",
        "UPLOAD_FOLDER = 'static/uploads'\n",
        "if not os.path.exists(UPLOAD_FOLDER):\n",
        "    os.makedirs(UPLOAD_FOLDER)\n",
        "app.config['UPLOAD_FOLDER'] = UPLOAD_FOLDER\n",
        "\n",
        "# HTML template with file upload form\n",
        "html_template = '''\n",
        "<!DOCTYPE html>\n",
        "<html lang=\"en\">\n",
        "<head>\n",
        "    <meta charset=\"UTF-8\">\n",
        "    <meta name=\"viewport\" content=\"width=device-width, initial-scale=1.0\">\n",
        "    <title>Image Classification</title>\n",
        "</head>\n",
        "<body>\n",
        "    <h1>Upload an Image for Classification</h1>\n",
        "    <form method=\"post\" action=\"/\" enctype=\"multipart/form-data\">\n",
        "        <input type=\"file\" name=\"file\" accept=\"image/*\">\n",
        "        <button type=\"submit\">Upload</button>\n",
        "    </form>\n",
        "    {% if prediction %}\n",
        "        <h2>Predicted Class: {{ prediction }}</h2>\n",
        "        <img src=\"{{ url_for('static', filename='uploads/' + uploaded_file) }}\" alt=\"Uploaded Image\" style=\"max-width: 500px;\">\n",
        "    {% endif %}\n",
        "</body>\n",
        "</html>\n",
        "'''\n",
        "\n",
        "# Route for the home page\n",
        "@app.route('/', methods=['GET', 'POST'])\n",
        "def index():\n",
        "    prediction = None\n",
        "    uploaded_file = None\n",
        "\n",
        "    if request.method == 'POST':\n",
        "        # Get the uploaded file\n",
        "        file = request.files['file']\n",
        "        if file:\n",
        "            # Generate a unique filename using UUID\n",
        "            unique_filename = f\"{uuid.uuid4()}_{file.filename}\"\n",
        "            file_path = os.path.join(app.config['UPLOAD_FOLDER'], unique_filename)\n",
        "            file.save(file_path)\n",
        "\n",
        "            # Run prediction\n",
        "            prediction = predict_uploaded_image(file_path)\n",
        "\n",
        "            # Store the uploaded file name for display\n",
        "            uploaded_file = unique_filename\n",
        "\n",
        "    return render_template_string(html_template, prediction=prediction, uploaded_file=uploaded_file)\n",
        "\n",
        "\n",
        "# Main entry point of the application, this block runs when the script is executed directly\n",
        "if __name__ == '__main__':\n",
        "    # Start ngrok and store the public URL\n",
        "    public_url = start_ngrok()\n",
        "    # Print the public URL to access the web application\n",
        "    print(f\" * Access the web app at: {public_url}\")\n",
        "    # Run the Flask app on port 5000\n",
        "    app.run(port=5000)\n"
      ],
      "metadata": {
        "id": "2CBpfidQpZvM",
        "colab": {
          "base_uri": "https://localhost:8080/"
        },
        "outputId": "f0d2b532-9baf-4917-e1c5-a42ee45f5294"
      },
      "execution_count": null,
      "outputs": [
        {
          "output_type": "stream",
          "name": "stderr",
          "text": [
            "/usr/local/lib/python3.10/dist-packages/torchvision/models/_utils.py:208: UserWarning: The parameter 'pretrained' is deprecated since 0.13 and may be removed in the future, please use 'weights' instead.\n",
            "  warnings.warn(\n",
            "/usr/local/lib/python3.10/dist-packages/torchvision/models/_utils.py:223: UserWarning: Arguments other than a weight enum or `None` for 'weights' are deprecated since 0.13 and may be removed in the future. The current behavior is equivalent to passing `weights=ResNet152_Weights.IMAGENET1K_V1`. You can also use `weights=ResNet152_Weights.DEFAULT` to get the most up-to-date weights.\n",
            "  warnings.warn(msg)\n"
          ]
        },
        {
          "output_type": "stream",
          "name": "stdout",
          "text": [
            " * ngrok tunnel URL: https://1d93-34-125-72-163.ngrok-free.app\n",
            " * Access the web app at: https://1d93-34-125-72-163.ngrok-free.app\n",
            " * Serving Flask app '__main__'\n",
            " * Debug mode: off\n"
          ]
        },
        {
          "output_type": "stream",
          "name": "stderr",
          "text": [
            "INFO:werkzeug:\u001b[31m\u001b[1mWARNING: This is a development server. Do not use it in a production deployment. Use a production WSGI server instead.\u001b[0m\n",
            " * Running on http://127.0.0.1:5000\n",
            "INFO:werkzeug:\u001b[33mPress CTRL+C to quit\u001b[0m\n",
            "INFO:werkzeug:127.0.0.1 - - [24/Oct/2024 14:18:11] \"GET / HTTP/1.1\" 200 -\n",
            "INFO:werkzeug:127.0.0.1 - - [24/Oct/2024 14:18:12] \"\u001b[33mGET /favicon.ico HTTP/1.1\u001b[0m\" 404 -\n"
          ]
        }
      ]
    },
    {
      "cell_type": "markdown",
      "source": [
        "# Exercise 1:\n",
        "Add a reset button that clears the uploaded image and any displayed prediction results, allowing users to start a new upload."
      ],
      "metadata": {
        "id": "pa9Uin-KUJvk"
      }
    },
    {
      "cell_type": "code",
      "source": [
        "# Import the required modules\n",
        "import torch\n",
        "from PIL import Image as PILImage\n",
        "import torchvision.transforms as transforms\n",
        "import torchvision.models as models\n",
        "from flask import Flask, render_template_string, request, redirect, url_for\n",
        "import os\n",
        "import subprocess\n",
        "import requests\n",
        "import time\n",
        "import uuid\n",
        "\n",
        "# Load the pre-trained ResNet-152 model\n",
        "def load_model():\n",
        "    model = models.resnet152(pretrained=True)\n",
        "    model.eval()\n",
        "    return model\n",
        "\n",
        "# Load the model\n",
        "model = load_model()\n",
        "\n",
        "# Load ImageNet classes\n",
        "with open(\"imagenet_classes.txt\") as f:\n",
        "    classes = [line.strip() for line in f.readlines()]\n",
        "\n",
        "# Prediction function using ResNet-152\n",
        "def predict_uploaded_image(image_path):\n",
        "    transform = transforms.Compose([\n",
        "        transforms.Resize(256),\n",
        "        transforms.CenterCrop(224),\n",
        "        transforms.ToTensor(),\n",
        "        transforms.Normalize(mean=[0.485, 0.456, 0.406], std=[0.229, 0.224, 0.225])\n",
        "    ])\n",
        "\n",
        "    image = PILImage.open(image_path).convert('RGB')\n",
        "    image = transform(image).unsqueeze(0)\n",
        "\n",
        "    with torch.no_grad():\n",
        "        output = model(image)\n",
        "        _, predicted = torch.max(output, 1)\n",
        "\n",
        "    predicted_class = classes[predicted.item()]\n",
        "    return predicted_class\n",
        "\n",
        "# Initialize Flask app\n",
        "app = Flask(__name__)\n",
        "\n",
        "# Set upload folder inside the static directory\n",
        "UPLOAD_FOLDER = 'static/uploads'\n",
        "if not os.path.exists(UPLOAD_FOLDER):\n",
        "    os.makedirs(UPLOAD_FOLDER)\n",
        "app.config['UPLOAD_FOLDER'] = UPLOAD_FOLDER\n",
        "\n",
        "# HTML template with file upload form and reset button\n",
        "html_template = '''\n",
        "<!DOCTYPE html>\n",
        "<html lang=\"en\">\n",
        "<head>\n",
        "    <meta charset=\"UTF-8\">\n",
        "    <meta name=\"viewport\" content=\"width=device-width, initial-scale=1.0\">\n",
        "    <title>Image Classification</title>\n",
        "</head>\n",
        "<body>\n",
        "    <h1>Upload an Image for Classification</h1>\n",
        "    <form method=\"post\" action=\"/\" enctype=\"multipart/form-data\">\n",
        "        <input type=\"file\" name=\"file\" accept=\"image/*\">\n",
        "        <button type=\"submit\">Upload</button>\n",
        "    </form>\n",
        "    <form method=\"post\" action=\"/reset\">\n",
        "\n",
        "        <button type=\"submit\">Reset</button\n",
        "\n",
        "    </form>\n",
        "    {% if prediction %}\n",
        "        <h2>Predicted Class: {{ prediction }}</h2>\n",
        "        <img src=\"{{ url_for('static', filename='uploads/' + uploaded_file) }}\" alt=\"Uploaded Image\" style=\"max-width: 500px;\">\n",
        "    {% endif %}\n",
        "</body>\n",
        "</html>\n",
        "'''\n",
        "\n",
        "# Route for the home page\n",
        "@app.route('/', methods=['GET', 'POST'])\n",
        "def index():\n",
        "    prediction = None\n",
        "    uploaded_file = None\n",
        "\n",
        "    if request.method == 'POST':\n",
        "        # Get the uploaded file\n",
        "        file = request.files['file']\n",
        "        if file:\n",
        "            # Generate a unique filename using UUID\n",
        "            unique_filename = f\"{uuid.uuid4()}_{file.filename}\"\n",
        "            file_path = os.path.join(app.config['UPLOAD_FOLDER'], unique_filename)\n",
        "            file.save(file_path)\n",
        "\n",
        "            # Run prediction\n",
        "            prediction = predict_uploaded_image(file_path)\n",
        "\n",
        "            # Store the uploaded file name for display\n",
        "            uploaded_file = unique_filename\n",
        "\n",
        "    return render_template_string(html_template, prediction=prediction, uploaded_file=uploaded_file)\n",
        "\n",
        "# Route for resetting the uploaded image and prediction\n",
        "@app.route('/reset', methods=['POST'])\n",
        "def reset():\n",
        "    # Redirect to the home page to clear the prediction and uploaded image\n",
        "    return redirect(url_for('index'))\n",
        "\n",
        "# Main entry point of the application, this block runs when the script is executed directly\n",
        "if __name__ == '__main__':\n",
        "    # Start ngrok and store the public URL\n",
        "    public_url = start_ngrok()\n",
        "    # Print the public URL to access the web application\n",
        "    print(f\" * Access the web app at: {public_url}\")\n",
        "    # Run the Flask app on port 5000\n",
        "    app.run(port=5000)\n"
      ],
      "metadata": {
        "colab": {
          "base_uri": "https://localhost:8080/"
        },
        "id": "gn3jVyZ-UKSH",
        "outputId": "3873b0cf-69a0-44fb-ea6e-a04f5154aadc"
      },
      "execution_count": null,
      "outputs": [
        {
          "output_type": "stream",
          "name": "stderr",
          "text": [
            "/usr/local/lib/python3.10/dist-packages/torchvision/models/_utils.py:208: UserWarning: The parameter 'pretrained' is deprecated since 0.13 and may be removed in the future, please use 'weights' instead.\n",
            "  warnings.warn(\n",
            "/usr/local/lib/python3.10/dist-packages/torchvision/models/_utils.py:223: UserWarning: Arguments other than a weight enum or `None` for 'weights' are deprecated since 0.13 and may be removed in the future. The current behavior is equivalent to passing `weights=ResNet152_Weights.IMAGENET1K_V1`. You can also use `weights=ResNet152_Weights.DEFAULT` to get the most up-to-date weights.\n",
            "  warnings.warn(msg)\n"
          ]
        },
        {
          "output_type": "stream",
          "name": "stdout",
          "text": [
            " * ngrok tunnel URL: https://6be6-34-125-72-163.ngrok-free.app\n",
            " * Access the web app at: https://6be6-34-125-72-163.ngrok-free.app\n",
            " * Serving Flask app '__main__'\n",
            " * Debug mode: off\n"
          ]
        },
        {
          "output_type": "stream",
          "name": "stderr",
          "text": [
            "INFO:werkzeug:\u001b[31m\u001b[1mWARNING: This is a development server. Do not use it in a production deployment. Use a production WSGI server instead.\u001b[0m\n",
            " * Running on http://127.0.0.1:5000\n",
            "INFO:werkzeug:\u001b[33mPress CTRL+C to quit\u001b[0m\n",
            "INFO:werkzeug:127.0.0.1 - - [24/Oct/2024 14:23:52] \"GET / HTTP/1.1\" 200 -\n",
            "INFO:werkzeug:127.0.0.1 - - [24/Oct/2024 14:23:52] \"\u001b[33mGET /favicon.ico HTTP/1.1\u001b[0m\" 404 -\n",
            "INFO:werkzeug:127.0.0.1 - - [24/Oct/2024 14:23:57] \"POST / HTTP/1.1\" 200 -\n",
            "INFO:werkzeug:127.0.0.1 - - [24/Oct/2024 14:23:58] \"GET /static/uploads/9b1d9c1f-1997-466a-a1ca-2a17343a5b76_FI.png HTTP/1.1\" 200 -\n",
            "INFO:werkzeug:127.0.0.1 - - [24/Oct/2024 14:24:05] \"POST / HTTP/1.1\" 200 -\n",
            "INFO:werkzeug:127.0.0.1 - - [24/Oct/2024 14:24:06] \"GET /static/uploads/f76be14c-4953-4719-8c06-0354fbf14937_Puppy.jpg HTTP/1.1\" 200 -\n",
            "INFO:werkzeug:127.0.0.1 - - [24/Oct/2024 14:24:09] \"\u001b[32mPOST /reset HTTP/1.1\u001b[0m\" 302 -\n",
            "INFO:werkzeug:127.0.0.1 - - [24/Oct/2024 14:24:09] \"GET / HTTP/1.1\" 200 -\n",
            "INFO:werkzeug:127.0.0.1 - - [24/Oct/2024 14:24:31] \"POST / HTTP/1.1\" 200 -\n",
            "INFO:werkzeug:127.0.0.1 - - [24/Oct/2024 14:24:31] \"GET /static/uploads/a5be4e49-01e5-4377-bfa4-d8aa0c7f9dec_Elephant.jpg HTTP/1.1\" 200 -\n",
            "INFO:werkzeug:127.0.0.1 - - [24/Oct/2024 14:24:33] \"\u001b[32mPOST /reset HTTP/1.1\u001b[0m\" 302 -\n",
            "INFO:werkzeug:127.0.0.1 - - [24/Oct/2024 14:24:33] \"GET / HTTP/1.1\" 200 -\n",
            "INFO:werkzeug:127.0.0.1 - - [24/Oct/2024 14:24:41] \"\u001b[32mPOST /reset HTTP/1.1\u001b[0m\" 302 -\n",
            "INFO:werkzeug:127.0.0.1 - - [24/Oct/2024 14:24:42] \"GET / HTTP/1.1\" 200 -\n",
            "INFO:werkzeug:127.0.0.1 - - [24/Oct/2024 14:24:52] \"\u001b[32mPOST /reset HTTP/1.1\u001b[0m\" 302 -\n",
            "INFO:werkzeug:127.0.0.1 - - [24/Oct/2024 14:24:52] \"GET / HTTP/1.1\" 200 -\n"
          ]
        }
      ]
    },
    {
      "cell_type": "markdown",
      "source": [
        "# Exercise 2:\n",
        "Modify the font (\"Upload an Image for Classification\" and \"Predicted Class:\") style and color"
      ],
      "metadata": {
        "id": "tBRyltZpWPUr"
      }
    },
    {
      "cell_type": "code",
      "source": [
        "# Import the required modules\n",
        "import torch\n",
        "from PIL import Image as PILImage\n",
        "import torchvision.transforms as transforms\n",
        "import torchvision.models as models\n",
        "from flask import Flask, render_template_string, request, redirect, url_for\n",
        "import os\n",
        "import subprocess\n",
        "import requests\n",
        "import time\n",
        "import uuid\n",
        "\n",
        "# Load the pre-trained ResNet-152 model\n",
        "def load_model():\n",
        "    model = models.resnet152(pretrained=True)\n",
        "    model.eval()\n",
        "    return model\n",
        "\n",
        "# Load the model\n",
        "model = load_model()\n",
        "\n",
        "# Load ImageNet classes\n",
        "with open(\"imagenet_classes.txt\") as f:\n",
        "    classes = [line.strip() for line in f.readlines()]\n",
        "\n",
        "# Prediction function using ResNet-152\n",
        "def predict_uploaded_image(image_path):\n",
        "    transform = transforms.Compose([\n",
        "        transforms.Resize(256),\n",
        "        transforms.CenterCrop(224),\n",
        "        transforms.ToTensor(),\n",
        "        transforms.Normalize(mean=[0.485, 0.456, 0.406], std=[0.229, 0.224, 0.225])\n",
        "    ])\n",
        "\n",
        "    image = PILImage.open(image_path).convert('RGB')\n",
        "    image = transform(image).unsqueeze(0)\n",
        "\n",
        "    with torch.no_grad():\n",
        "        output = model(image)\n",
        "        _, predicted = torch.max(output, 1)\n",
        "\n",
        "    predicted_class = classes[predicted.item()]\n",
        "    return predicted_class\n",
        "\n",
        "# Initialize Flask app\n",
        "app = Flask(__name__)\n",
        "\n",
        "# Set upload folder inside the static directory\n",
        "UPLOAD_FOLDER = 'static/uploads'\n",
        "if not os.path.exists(UPLOAD_FOLDER):\n",
        "    os.makedirs(UPLOAD_FOLDER)\n",
        "app.config['UPLOAD_FOLDER'] = UPLOAD_FOLDER\n",
        "\n",
        "# HTML template with file upload form and reset button\n",
        "html_template = '''\n",
        "<!DOCTYPE html>\n",
        "<html lang=\"en\">\n",
        "<head>\n",
        "    <meta charset=\"UTF-8\">\n",
        "    <meta name=\"viewport\" content=\"width=device-width, initial-scale=1.0\">\n",
        "    <title>Image Classification</title>\n",
        "</head>\n",
        "<body>\n",
        "    <h1 style=\"font-family: 'Papyrus', 'Comic Sans MS', serif;\">Upload an Image for Classification</h1>\n",
        "    <form method=\"post\" action=\"/\" enctype=\"multipart/form-data\">\n",
        "        <input type=\"file\" name=\"file\" accept=\"image/*\">\n",
        "        <button type=\"submit\">Upload</button>\n",
        "    </form>\n",
        "    <form method=\"post\" action=\"/reset\">\n",
        "        <button type=\"submit\">Reset</button>\n",
        "    </form>\n",
        "    {% if prediction %}\n",
        "        <h2 style=\"font-family: 'Papyrus', 'Comic Sans MS', serif;\">Predicted Class: {{ prediction }}</h2>\n",
        "        <img src=\"{{ url_for('static', filename='uploads/' + uploaded_file) }}\" alt=\"Uploaded Image\" style=\"max-width: 500px;\">\n",
        "    {% endif %}\n",
        "</body>\n",
        "</html>\n",
        "'''\n",
        "\n",
        "# Route for the home page\n",
        "@app.route('/', methods=['GET', 'POST'])\n",
        "def index():\n",
        "    prediction = None\n",
        "    uploaded_file = None\n",
        "\n",
        "    if request.method == 'POST':\n",
        "        # Get the uploaded file\n",
        "        file = request.files['file']\n",
        "        if file:\n",
        "            # Generate a unique filename using UUID\n",
        "            unique_filename = f\"{uuid.uuid4()}_{file.filename}\"\n",
        "            file_path = os.path.join(app.config['UPLOAD_FOLDER'], unique_filename)\n",
        "            file.save(file_path)\n",
        "\n",
        "            # Run prediction\n",
        "            prediction = predict_uploaded_image(file_path)\n",
        "\n",
        "            # Store the uploaded file name for display\n",
        "            uploaded_file = unique_filename\n",
        "\n",
        "    return render_template_string(html_template, prediction=prediction, uploaded_file=uploaded_file)\n",
        "\n",
        "# Route for resetting the uploaded image and prediction\n",
        "@app.route('/reset', methods=['POST'])\n",
        "def reset():\n",
        "    # Redirect to the home page to clear the prediction and uploaded image\n",
        "    return redirect(url_for('index'))\n",
        "\n",
        "# Main entry point of the application, this block runs when the script is executed directly\n",
        "if __name__ == '__main__':\n",
        "    # Start ngrok and store the public URL\n",
        "    public_url = start_ngrok()\n",
        "    # Print the public URL to access the web application\n",
        "    print(f\" * Access the web app at: {public_url}\")\n",
        "    # Run the Flask app on port 5000\n",
        "    app.run(port=5000)"
      ],
      "metadata": {
        "id": "G698dSIQVKcY",
        "colab": {
          "base_uri": "https://localhost:8080/"
        },
        "outputId": "ef052d59-55c0-4c4e-f747-ee7f783e4b32"
      },
      "execution_count": null,
      "outputs": [
        {
          "output_type": "stream",
          "name": "stderr",
          "text": [
            "/usr/local/lib/python3.10/dist-packages/torchvision/models/_utils.py:208: UserWarning: The parameter 'pretrained' is deprecated since 0.13 and may be removed in the future, please use 'weights' instead.\n",
            "  warnings.warn(\n",
            "/usr/local/lib/python3.10/dist-packages/torchvision/models/_utils.py:223: UserWarning: Arguments other than a weight enum or `None` for 'weights' are deprecated since 0.13 and may be removed in the future. The current behavior is equivalent to passing `weights=ResNet152_Weights.IMAGENET1K_V1`. You can also use `weights=ResNet152_Weights.DEFAULT` to get the most up-to-date weights.\n",
            "  warnings.warn(msg)\n"
          ]
        },
        {
          "output_type": "stream",
          "name": "stdout",
          "text": [
            " * ngrok tunnel URL: https://feb3-34-125-72-163.ngrok-free.app\n",
            " * Access the web app at: https://feb3-34-125-72-163.ngrok-free.app\n",
            " * Serving Flask app '__main__'\n",
            " * Debug mode: off\n"
          ]
        },
        {
          "output_type": "stream",
          "name": "stderr",
          "text": [
            "INFO:werkzeug:\u001b[31m\u001b[1mWARNING: This is a development server. Do not use it in a production deployment. Use a production WSGI server instead.\u001b[0m\n",
            " * Running on http://127.0.0.1:5000\n",
            "INFO:werkzeug:\u001b[33mPress CTRL+C to quit\u001b[0m\n",
            "INFO:werkzeug:127.0.0.1 - - [24/Oct/2024 14:36:12] \"GET / HTTP/1.1\" 200 -\n",
            "INFO:werkzeug:127.0.0.1 - - [24/Oct/2024 14:36:13] \"\u001b[33mGET /favicon.ico HTTP/1.1\u001b[0m\" 404 -\n",
            "INFO:werkzeug:127.0.0.1 - - [24/Oct/2024 14:36:21] \"POST / HTTP/1.1\" 200 -\n",
            "INFO:werkzeug:127.0.0.1 - - [24/Oct/2024 14:36:21] \"GET /static/uploads/5c90ee7c-2c7a-4b27-986d-b4698b33402c_Bananas.png HTTP/1.1\" 200 -\n",
            "INFO:werkzeug:127.0.0.1 - - [24/Oct/2024 14:36:30] \"\u001b[32mPOST /reset HTTP/1.1\u001b[0m\" 302 -\n",
            "INFO:werkzeug:127.0.0.1 - - [24/Oct/2024 14:36:30] \"GET / HTTP/1.1\" 200 -\n",
            "INFO:werkzeug:127.0.0.1 - - [24/Oct/2024 14:37:03] \"POST / HTTP/1.1\" 200 -\n",
            "INFO:werkzeug:127.0.0.1 - - [24/Oct/2024 14:37:04] \"GET /static/uploads/643c340d-3bcf-41a9-aae4-4c4dfc70108e_Q.jpg HTTP/1.1\" 200 -\n",
            "INFO:werkzeug:127.0.0.1 - - [24/Oct/2024 14:37:25] \"POST / HTTP/1.1\" 200 -\n",
            "INFO:werkzeug:127.0.0.1 - - [24/Oct/2024 14:37:26] \"GET /static/uploads/ed858933-d836-4b70-bf58-781bc9cc140a_IMG_20240531_213308.jpg HTTP/1.1\" 200 -\n",
            "INFO:werkzeug:127.0.0.1 - - [24/Oct/2024 14:37:45] \"POST / HTTP/1.1\" 200 -\n",
            "INFO:werkzeug:127.0.0.1 - - [24/Oct/2024 14:37:46] \"GET /static/uploads/9e751d8a-802c-4ab3-9a7a-4a4d9564a8f9_eh.png HTTP/1.1\" 200 -\n",
            "INFO:werkzeug:127.0.0.1 - - [24/Oct/2024 14:38:28] \"POST / HTTP/1.1\" 200 -\n",
            "INFO:werkzeug:127.0.0.1 - - [24/Oct/2024 14:38:28] \"GET /static/uploads/ec34ac9c-48fa-44b0-86c7-04f0a0f07af0_IMG_20231106_161437%20(1).jpg HTTP/1.1\" 200 -\n",
            "INFO:werkzeug:127.0.0.1 - - [24/Oct/2024 14:38:37] \"POST / HTTP/1.1\" 200 -\n",
            "INFO:werkzeug:127.0.0.1 - - [24/Oct/2024 14:38:38] \"GET /static/uploads/0fad3ddf-37f7-4832-8208-18ecda48252f_IMG_20220912_193600.jpg HTTP/1.1\" 200 -\n",
            "INFO:werkzeug:127.0.0.1 - - [24/Oct/2024 14:38:50] \"POST / HTTP/1.1\" 200 -\n",
            "INFO:werkzeug:127.0.0.1 - - [24/Oct/2024 14:38:50] \"GET /static/uploads/35100688-7d4d-4509-9ceb-c23bde023abf_Language-learning-soc-meme-logo.png HTTP/1.1\" 200 -\n",
            "INFO:werkzeug:127.0.0.1 - - [24/Oct/2024 14:38:59] \"POST / HTTP/1.1\" 200 -\n",
            "INFO:werkzeug:127.0.0.1 - - [24/Oct/2024 14:39:00] \"GET /static/uploads/cb50f2c4-6add-48d1-ac10-5f53835b3027_BU%20logo.jpg HTTP/1.1\" 200 -\n",
            "INFO:werkzeug:127.0.0.1 - - [24/Oct/2024 14:39:08] \"POST / HTTP/1.1\" 200 -\n",
            "INFO:werkzeug:127.0.0.1 - - [24/Oct/2024 14:39:08] \"GET /static/uploads/cf17c813-4f0b-41e0-8386-2ba2440030cf_IMG_20231226_081310.jpg HTTP/1.1\" 200 -\n",
            "INFO:werkzeug:127.0.0.1 - - [24/Oct/2024 14:39:24] \"\u001b[32mPOST /reset HTTP/1.1\u001b[0m\" 302 -\n",
            "INFO:werkzeug:127.0.0.1 - - [24/Oct/2024 14:39:24] \"GET / HTTP/1.1\" 200 -\n"
          ]
        }
      ]
    }
  ],
  "metadata": {
    "accelerator": "GPU",
    "colab": {
      "gpuType": "T4",
      "machine_shape": "hm",
      "provenance": [],
      "include_colab_link": true
    },
    "kernelspec": {
      "display_name": "Python 3",
      "name": "python3"
    },
    "language_info": {
      "codemirror_mode": {
        "name": "ipython",
        "version": 3
      },
      "file_extension": ".py",
      "mimetype": "text/x-python",
      "name": "python",
      "nbconvert_exporter": "python",
      "pygments_lexer": "ipython3",
      "version": "3.6.5"
    }
  },
  "nbformat": 4,
  "nbformat_minor": 0
}